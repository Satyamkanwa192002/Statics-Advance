{
 "cells": [
  {
   "cell_type": "markdown",
   "id": "be7aaf3c",
   "metadata": {},
   "source": [
    "Question 1: Z-Statistic and Its Role in Hypothesis Testing\n",
    "The z-statistic is a measure of how many standard deviations a data point is from the mean of a distribution. In hypothesis testing, the z-statistic compares a sample mean to a known population mean to assess whether they are significantly different.\n",
    "\n",
    "Relationship to Standard Normal Distribution: A z-score (or z-statistic) is based on the standard normal distribution, which has a mean of 0 and a standard deviation of 1. Any data point can be transformed into a z-score by subtracting the mean and dividing by the standard deviation. This standardization allows us to interpret the z-score within the standard normal distribution.\n",
    "\n",
    "Use in Hypothesis Testing: In hypothesis testing, the z-score helps determine whether to reject the null hypothesis. By comparing the z-score to critical values, researchers can assess whether the observed result is statistically significant."
   ]
  },
  {
   "cell_type": "markdown",
   "id": "fea9fd1e",
   "metadata": {},
   "source": [
    "Question 2: Understanding P-Values in Hypothesis Testing\n",
    "The p-value is the probability of observing a test statistic as extreme as, or more extreme than, the observed value, assuming the null hypothesis is true. It helps quantify the strength of evidence against the null hypothesis.\n",
    "\n",
    "A small p-value (e.g., 0.01) suggests that the observed data is unlikely under the null hypothesis, leading to stronger evidence against it.\n",
    "In hypothesis testing, if the p-value is below a predetermined significance level (e.g., 0.05), we reject the null hypothesis."
   ]
  },
  {
   "cell_type": "markdown",
   "id": "0c50e58a",
   "metadata": {},
   "source": [
    "Question 3: Binomial vs. Bernoulli Distributions\n",
    "The Bernoulli distribution describes a single trial with two outcomes (success or failure), with a probability \n",
    "𝑝\n",
    "p for success. The binomial distribution is the sum of \n",
    "𝑛\n",
    "n independent Bernoulli trials, each with the same probability of success \n",
    "𝑝\n",
    "p.\n",
    "\n",
    "Bernoulli Distribution: Single trial, two outcomes, probability \n",
    "𝑝\n",
    "p.\n",
    "Binomial Distribution: \n",
    "𝑛\n",
    "n trials, each following a Bernoulli distribution, with possible outcomes from 0 to \n",
    "𝑛\n",
    "n successes."
   ]
  },
  {
   "cell_type": "markdown",
   "id": "1ac4ea22",
   "metadata": {},
   "source": [
    "Question 4: Conditions for Using the Binomial Distribution and Its Relation to Bernoulli\n",
    "The binomial distribution is appropriate when:\n",
    "\n",
    "There is a fixed number of trials (\n",
    "𝑛\n",
    "n),\n",
    "Each trial is independent,\n",
    "Each trial has two outcomes (success or failure),\n",
    "The probability of success \n",
    "𝑝\n",
    "p remains constant across trials.\n",
    "The binomial distribution is essentially a series of independent Bernoulli trials, where we count the total number of successes in \n",
    "𝑛\n",
    "n trials."
   ]
  },
  {
   "cell_type": "markdown",
   "id": "3a0e044d",
   "metadata": {},
   "source": [
    "Question 5: Key Properties and Uses of the Poisson Distribution\n",
    "The Poisson distribution models the probability of a given number of events happening in a fixed interval of time or space, given a known constant mean rate of occurrence and assuming events occur independently.\n",
    "\n",
    "Properties:\n",
    "\n",
    "Mean and variance are both equal to the parameter \n",
    "𝜆\n",
    "λ, the average rate of occurrence.\n",
    "Useful for modeling rare events or counts over time.\n",
    "Appropriate Use: It’s used when events are independent, the rate is constant, and occurrences happen singly in small intervals.\n",
    "\n"
   ]
  },
  {
   "cell_type": "markdown",
   "id": "53992b17",
   "metadata": {},
   "source": [
    "Question 6: Probability Distribution, PDF, and PMF\n",
    "Probability Distribution: Describes how probabilities are distributed over the values of a random variable.\n",
    "Probability Density Function (PDF): Used for continuous random variables. The probability of any single point is zero; probabilities are defined over intervals.\n",
    "Probability Mass Function (PMF): Used for discrete random variables, assigning probabilities to each possible value.\n"
   ]
  },
  {
   "cell_type": "markdown",
   "id": "f903cf19",
   "metadata": {},
   "source": [
    "Question 7: Central Limit Theorem (CLT)\n",
    "The Central Limit Theorem (CLT) states that the sampling distribution of the sample mean will approximate a normal distribution as the sample size becomes large, regardless of the population’s distribution, provided the sample size is sufficient (usually \n",
    "𝑛\n",
    "≥\n",
    "30\n",
    "n≥30).\n",
    "\n",
    "Example: For a non-normally distributed population (e.g., uniform distribution), the means of samples of size 50 will tend to form a normal distribution.\n",
    "\n"
   ]
  },
  {
   "cell_type": "markdown",
   "id": "1f59fc68",
   "metadata": {},
   "source": [
    "Question 8: Comparing Z-Scores and T-Scores\n",
    "Z-scores are used when the population standard deviation is known or when dealing with large sample sizes. T-scores are used when the sample size is small (\n",
    "𝑛\n",
    "<\n",
    "30\n",
    "n<30) and the population standard deviation is unknown.\n",
    "\n",
    "Use z-scores for large samples or known population standard deviation.\n",
    "Use t-scores for small samples where the population standard deviation is unknown."
   ]
  },
  {
   "cell_type": "markdown",
   "id": "7052b27d",
   "metadata": {},
   "source": [
    "Question 9: Calculating Z-Score and P-Value\n",
    "Given:\n",
    "\n",
    "Sample mean (𝑥ˉxˉ) = 105\n",
    "Population mean (𝜇μ) = 100\n",
    "Population standard deviation (𝜎σ) = 15\n",
    "Sample size (𝑛n) = 25"
   ]
  },
  {
   "cell_type": "code",
   "execution_count": 6,
   "id": "67ac0f8a",
   "metadata": {},
   "outputs": [
    {
     "name": "stdout",
     "output_type": "stream",
     "text": [
      "Z-score: 1.6666666666666667\n",
      "P-value: 0.0955807045456294\n",
      "Fail to reject the null hypothesis\n"
     ]
    }
   ],
   "source": [
    "#Python Code:\n",
    "import scipy.stats as stats\n",
    "import math\n",
    "\n",
    "# Given data\n",
    "sample_mean = 105\n",
    "population_mean = 100\n",
    "std_dev = 15\n",
    "sample_size = 25\n",
    "\n",
    "# Calculate z-score\n",
    "z_score = (sample_mean - population_mean) / (std_dev / math.sqrt(sample_size))\n",
    "\n",
    "# Calculate p-value for two-tailed test\n",
    "p_value = 2 * stats.norm.sf(abs(z_score))\n",
    "\n",
    "# Print results\n",
    "print(\"Z-score:\", z_score)\n",
    "print(\"P-value:\", p_value)\n",
    "\n",
    "# Hypothesis test at 0.05 significance level\n",
    "if p_value < 0.05:\n",
    "    print(\"Reject the null hypothesis\")\n",
    "else:\n",
    "    print(\"Fail to reject the null hypothesis\")"
   ]
  },
  {
   "cell_type": "markdown",
   "id": "6099c7ed",
   "metadata": {},
   "source": [
    "Interpretation:\n",
    "\n",
    "If 𝑝<0.05\n",
    "p<0.05, reject the null hypothesis.\n",
    "If \n",
    "𝑝≥0.05\n",
    "p≥0.05, fail to reject the null hypothesis.\n"
   ]
  },
  {
   "cell_type": "markdown",
   "id": "ef7388bb",
   "metadata": {},
   "source": [
    "Question 10: Simulating and Plotting a Binomial Distribution\n",
    "Expected Mean and Variance:\n",
    "For a binomial distribution with 𝑛=10n=10 and 𝑝=0.6p=0.6:\n",
    "\n",
    "Mean = 𝑛𝑝=10×0.6=6np=10×0.6=6\n",
    "Variance = 𝑛𝑝(1−𝑝)10×0.6×0.4=2.4np(1−p)=10×0.6×0.4=2.4"
   ]
  },
  {
   "cell_type": "code",
   "execution_count": 7,
   "id": "10ffe041",
   "metadata": {},
   "outputs": [
    {
     "data": {
      "image/png": "[encoded data removed]",
      "text/plain": [
       "<Figure size 640x480 with 1 Axes>"
      ]
     },
     "metadata": {},
     "output_type": "display_data"
    },
    {
     "name": "stdout",
     "output_type": "stream",
     "text": [
      "Expected Mean: 6\n",
      "Calculated Mean: 5.992\n",
      "Expected Variance: 2.4\n",
      "Calculated Variance: 2.2479359999999997\n"
     ]
    }
   ],
   "source": [
    "import numpy as np\n",
    "import matplotlib.pyplot as plt\n",
    "\n",
    "# Parameters\n",
    "n_trials = 10\n",
    "p_success = 0.6\n",
    "num_samples = 1000\n",
    "\n",
    "# Generate binomial samples\n",
    "samples = np.random.binomial(n_trials, p_success, num_samples)\n",
    "\n",
    "# Calculate mean and variance\n",
    "mean = np.mean(samples)\n",
    "variance = np.var(samples)\n",
    "\n",
    "# Plot the distribution\n",
    "plt.hist(samples, bins=np.arange(0, n_trials + 2) - 0.5, density=True, color='skyblue', edgecolor='black')\n",
    "plt.title(\"Binomial Distribution (n=10, p=0.6)\")\n",
    "plt.xlabel(\"Number of Successes\")\n",
    "plt.ylabel(\"Probability\")\n",
    "plt.show()\n",
    "\n",
    "# Print results\n",
    "print(\"Expected Mean:\", 6)\n",
    "print(\"Calculated Mean:\", mean)\n",
    "print(\"Expected Variance:\", 2.4)\n",
    "print(\"Calculated Variance:\", variance)\n"
   ]
  },
  {
   "cell_type": "markdown",
   "id": "093662b0",
   "metadata": {},
   "source": [
    "This code generates 1,000 samples of a binomial distribution with \n",
    "𝑛=10n=10 and 𝑝=0.6p=0.6, then calculates and plots the mean and variance.\n",
    "\n"
   ]
  }
 ],
 "metadata": {
  "kernelspec": {
   "display_name": "Python 3 (ipykernel)",
   "language": "python",
   "name": "python3"
  },
  "language_info": {
   "codemirror_mode": {
    "name": "ipython",
    "version": 3
   },
   "file_extension": ".py",
   "mimetype": "text/x-python",
   "name": "python",
   "nbconvert_exporter": "python",
   "pygments_lexer": "ipython3",
   "version": "3.11.5"
  }
 },
 "nbformat": 4,
 "nbformat_minor": 5
}
